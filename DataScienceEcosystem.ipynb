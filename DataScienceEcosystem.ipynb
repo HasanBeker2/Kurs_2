{
  "cells": [
    {
      "cell_type": "markdown",
      "metadata": {},
      "source": [
        "## Data Science Tools and Ecosystem"
      ]
    },
    {
      "cell_type": "markdown",
      "metadata": {},
      "source": [
        "In this notebook, Data Science Tools and Ecosystem are summarized."
      ]
    },
    {
      "cell_type": "markdown",
      "metadata": {},
      "source": [
        "**Objectives:**\n",
        "\n",
        "- Understand basic arithmetic operations in Python.\n",
        "- Familiarize yourself with common data science libraries like NumPy, Pandas, Matplotlib, and Seaborn.\n",
        "- Learn how to format Markdown cells in Jupyter Notebook.\n",
        "- Practice creating and running code cells in Jupyter Notebook.\n",
        "- Gain knowledge about common programming concepts, such as variable assignment and complex expressions.\n"
      ]
    },
    {
      "cell_type": "markdown",
      "metadata": {},
      "source": [
        "Some of the popular languages that Data Scientists use are:\n",
        "- Python\n",
        "- Java\n",
        "- Julia"
      ]
    },
    {
      "cell_type": "markdown",
      "metadata": {},
      "source": [
        "Some of the commonly used libraries used by Data Scientists include:\n",
        "- Numpy\n",
        "- Pandas\n",
        "- Matlotlib\n",
        "- Pytorch\n",
        "- Scrapy\n"
      ]
    },
    {
      "cell_type": "markdown",
      "metadata": {},
      "source": [
        "| Data Science Tools     |\n",
        "|------------------------|\n",
        "| Jupyter Notebooks      |\n",
        "| RStudio                |\n",
        "| VS Code with Python    |\n",
        "\n",
        "\n"
      ]
    },
    {
      "cell_type": "markdown",
      "metadata": {},
      "source": [
        "### Below are a few examples of evaluating arithmetic expressions in Python:)\n"
      ]
    },
    {
      "cell_type": "markdown",
      "metadata": {},
      "source": [
        "#### Addition\n",
        "result_addition = 5 + 3\n",
        "print(\"Result of addition:\", result_addition)\n",
        "\n",
        "#### Subtraction\n",
        "result_subtraction = 10 - 4\n",
        "print(\"Result of subtraction:\", result_subtraction)\n",
        "\n",
        "#### Multiplication\n",
        "result_multiplication = 6 * 7\n",
        "print(\"Result of multiplication:\", result_multiplication)\n",
        "\n",
        "#### Division\n",
        "result_division = 15 / 3\n",
        "print(\"Result of division:\", result_division)\n",
        "\n",
        "#### Exponentiation\n",
        "result_exponentiation = 2 ** 4\n",
        "print(\"Result of exponentiation:\", result_exponentiation)\n",
        "\n",
        "#### Modulo (Remainder)\n",
        "result_remainder = 17 % 5\n",
        "print(\"Remainder of division:\", result_remainder)\n",
        "\n",
        "#### Complex Expression\n",
        "result_complex_expression = (4 + 5) * 2 - 7\n",
        "print(\"Result of a complex expression:\", result_complex_expression)\n",
        "\n",
        "#### Variable Assignment and Expression\n",
        "a = 10\n",
        "b = 3\n",
        "result_variable_expression = a * b + 5\n",
        "print(\"Result of variable-based expression:\", result_variable_expression)\n",
        "\", result_variable_expression)\n"
      ]
    },
    {
      "cell_type": "code",
      "execution_count": 3,
      "metadata": {
        "trusted": true
      },
      "outputs": [
        {
          "data": {
            "text/plain": [
              "17"
            ]
          },
          "execution_count": 3,
          "metadata": {},
          "output_type": "execute_result"
        }
      ],
      "source": [
        "#This a simple arithmetic expression to mutiply then add integers\n",
        "(3*4)+5"
      ]
    },
    {
      "cell_type": "code",
      "execution_count": 4,
      "metadata": {
        "trusted": true
      },
      "outputs": [
        {
          "data": {
            "text/plain": [
              "3.3333333333333335"
            ]
          },
          "execution_count": 4,
          "metadata": {},
          "output_type": "execute_result"
        }
      ],
      "source": [
        "#This will convert 200 minutes to hours by diving by 60\n",
        "200/60"
      ]
    },
    {
      "cell_type": "markdown",
      "metadata": {},
      "source": [
        "## Author\n",
        "Hasan Beker\n"
      ]
    },
    {
      "cell_type": "code",
      "execution_count": null,
      "metadata": {
        "trusted": true
      },
      "outputs": [],
      "source": []
    }
  ],
  "metadata": {
    "kernelspec": {
      "display_name": "Python 3",
      "language": "python",
      "name": "python3"
    },
    "language_info": {
      "codemirror_mode": {
        "name": "ipython",
        "version": 3
      },
      "file_extension": ".py",
      "mimetype": "text/x-python",
      "name": "python",
      "nbconvert_exporter": "python",
      "pygments_lexer": "ipython3",
      "version": "3.10.11"
    }
  },
  "nbformat": 4,
  "nbformat_minor": 4
}
