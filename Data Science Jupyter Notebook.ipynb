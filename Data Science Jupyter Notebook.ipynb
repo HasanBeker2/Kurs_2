{
    "cells": [
        {
            "cell_type": "markdown",
            "metadata": {
                "collapsed": true
            },
            "source": "# My Jupyter Notebook on IBM Watson Studio\n"
        },
        {
            "cell_type": "markdown",
            "metadata": {},
            "source": "**Hasan Beker**\nYour current or desired occupation\n"
        },
        {
            "cell_type": "markdown",
            "metadata": {},
            "source": "*I am interested in data science because...*\n"
        },
        {
            "cell_type": "markdown",
            "metadata": {},
            "source": "### Code Description\nIn this section, I will provide a brief explanation of the code in Cell 5. \n"
        },
        {
            "cell_type": "code",
            "execution_count": 1,
            "metadata": {},
            "outputs": [
                {
                    "data": {
                        "text/plain": "2"
                    },
                    "execution_count": 1,
                    "metadata": {},
                    "output_type": "execute_result"
                }
            ],
            "source": "# Sample code\n1 + 1\n"
        },
        {
            "cell_type": "markdown",
            "metadata": {},
            "source": "- Bulleted List\n- Numbered List:\n  1. Item 1\n  2. Item 2\n\n\n- [Link to Google](https://www.google.com)\n- [Image](https://images.app.goo.gl/gVPpvfg2MXTX8h3R7)\n"
        },
        {
            "cell_type": "code",
            "execution_count": null,
            "metadata": {},
            "outputs": [],
            "source": ""
        }
    ],
    "metadata": {
        "kernelspec": {
            "display_name": "Python 3.10",
            "language": "python",
            "name": "python3"
        },
        "language_info": {
            "codemirror_mode": {
                "name": "ipython",
                "version": 3
            },
            "file_extension": ".py",
            "mimetype": "text/x-python",
            "name": "python",
            "nbconvert_exporter": "python",
            "pygments_lexer": "ipython3",
            "version": "3.10.13"
        }
    },
    "nbformat": 4,
    "nbformat_minor": 1
}